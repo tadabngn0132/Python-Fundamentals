{
 "cells": [
  {
   "cell_type": "code",
   "execution_count": null,
   "metadata": {},
   "outputs": [],
   "source": [
    "f = open('languages.txt', 'r') # open file with read mode\n",
    "contents = f.read() # read all contents into a string\n",
    "# print(contents)\n",
    "languages = contents.split('\\n')\n",
    "print(len(languages))\n",
    "for lan in languages:\n",
    "    print(lan)\n",
    "f.close() # close file"
   ]
  },
  {
   "cell_type": "code",
   "execution_count": null,
   "metadata": {},
   "outputs": [],
   "source": [
    "f = open('languages.txt', 'r')\n",
    "lines = f.readlines() # read all contents into a list of strings\n",
    "f.close()\n",
    "\n",
    "for language in lines:\n",
    "    print(f'|{language.strip()}|') # strip() remove the new line character"
   ]
  },
  {
   "cell_type": "code",
   "execution_count": null,
   "metadata": {},
   "outputs": [],
   "source": [
    "# Use this method for large file'\n",
    "f = open('languages.txt', 'r')\n",
    "line = f.readline() # read 1st line\n",
    "\n",
    "while line != '':\n",
    "    print(line.strip())\n",
    "    line = f.readline() # read the next line\n",
    "\n",
    "f.close()"
   ]
  },
  {
   "cell_type": "code",
   "execution_count": null,
   "metadata": {},
   "outputs": [],
   "source": [
    "f = open(\"agencies.txt\", \"r\")\n",
    "line = f.readline()\n",
    "while line != '':\n",
    "    if 'Authority' in line:\n",
    "        print(line.strip())\n",
    "    line = f.readline()\n",
    "f.close()"
   ]
  },
  {
   "cell_type": "code",
   "execution_count": 16,
   "metadata": {},
   "outputs": [
    {
     "name": "stdout",
     "output_type": "stream",
     "text": [
      "File agencies not found. Try again.\n",
      "3 The Triboro Bridge and Tunnel Authority\n",
      "5 The Metropolitan Transit Authority\n",
      "6 The Port Authority of New York and New Jersey\n"
     ]
    }
   ],
   "source": [
    "invalid_file = True\n",
    "while invalid_file:\n",
    "    try:\n",
    "        file_name = input(\"Enter file name: \")\n",
    "        f = open(file_name, \"r\")\n",
    "        invalid_file = False\n",
    "    except FileNotFoundError:\n",
    "        print(f'File {file_name} not found. Try again.')\n",
    "\n",
    "lines = f.readlines()\n",
    "f.close()\n",
    "\n",
    "# Reopen another file to save authorities\n",
    "f = open(file_name + '.authority', 'w')\n",
    "\n",
    "for i, line in enumerate(lines):\n",
    "    if 'Authority' in line:\n",
    "        print(i+1, line.strip())\n",
    "        f.write(line)\n",
    "\n",
    "f.close()"
   ]
  },
  {
   "cell_type": "code",
   "execution_count": null,
   "metadata": {},
   "outputs": [],
   "source": [
    "# Exercise: read authors.txt, find all author that use gmail and save them\n",
    "# into a new file gmail_authors.txt in following format:\n",
    "# Paul Bakaus: paul.bakaus@gmail.com\n",
    "# Richard Worth: rdworth@gmail.com\n",
    "\n",
    "try:\n",
    "    f = open(\"authors.txt\", \"r\")\n",
    "    lines = f.readlines()\n",
    "    f.close()\n",
    "except FileNotFoundError:\n",
    "    print(f'File not found')\n",
    "\n",
    "if lines:\n",
    "    with open('gmail_author.txt', 'w') as f:\n",
    "        for line in lines:\n",
    "            if 'gmail' in line:\n",
    "                author = line.split('<')[0].strip()\n",
    "                email = line.split('<')[1].strip().strip('>')\n",
    "                f.write(f'{author}: {email}\\n')"
   ]
  }
 ],
 "metadata": {
  "kernelspec": {
   "display_name": "Python 3",
   "language": "python",
   "name": "python3"
  },
  "language_info": {
   "codemirror_mode": {
    "name": "ipython",
    "version": 3
   },
   "file_extension": ".py",
   "mimetype": "text/x-python",
   "name": "python",
   "nbconvert_exporter": "python",
   "pygments_lexer": "ipython3",
   "version": "3.11.3"
  },
  "orig_nbformat": 4
 },
 "nbformat": 4,
 "nbformat_minor": 2
}
