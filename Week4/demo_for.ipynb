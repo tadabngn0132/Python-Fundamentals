{
 "cells": [
  {
   "cell_type": "code",
   "execution_count": null,
   "metadata": {},
   "outputs": [],
   "source": [
    "# for syntax: for item in sequence:\n",
    "for i in range(10):\n",
    "    print(i, 'Hello')"
   ]
  },
  {
   "cell_type": "code",
   "execution_count": null,
   "metadata": {},
   "outputs": [],
   "source": [
    "for i in range(0, 10, 2):\n",
    "    print(i, 'Hello')"
   ]
  },
  {
   "cell_type": "code",
   "execution_count": null,
   "metadata": {},
   "outputs": [],
   "source": [
    "for i in range(10, 0, -1):\n",
    "    print(i, 'Hello')"
   ]
  },
  {
   "cell_type": "code",
   "execution_count": null,
   "metadata": {},
   "outputs": [],
   "source": [
    "# Sum from 1 to n\n",
    "n = int(input('Enter n: '))\n",
    "s = 0\n",
    "for i in range(1, n + 1):\n",
    "    s += i\n",
    "print('Sum from 1 to', n, 'is', s)"
   ]
  },
  {
   "cell_type": "code",
   "execution_count": null,
   "metadata": {},
   "outputs": [],
   "source": [
    "# Ex1: Caculate n!\n",
    "n = int(input(\"Enter n: \"))\n",
    "for i in range( 1, n, 1):\n",
    "    n = n*i\n",
    "print(n)\n",
    "\n",
    "\n",
    "# Ex2: Caculate sum of even numbers from 1 to n\n",
    "n = int(input(\"Enter number: \"))\n",
    "s = 0\n",
    "for i in range(1, n+1):\n",
    "    if i % 2 == 0:\n",
    "        s += i\n",
    "print(s)\n",
    "\n",
    "s = 0\n",
    "for i in range(2, n+1, 2):\n",
    "    s += i\n",
    "print(f'Sum of even numbers from 1 to {n} is {s}')\n",
    "\n",
    "# Ex3: Caculate product of odd numbers from 1 to n\n",
    "n = int(input(\"Enter number: \"))\n",
    "s = 0\n",
    "for i in range(1, n+1):\n",
    "    if i % 2 != 0:\n",
    "        s += i\n",
    "print(s)\n",
    "\n",
    "p = 1\n",
    "for i in range(1, n+1, 2):\n",
    "    p *= i\n",
    "print(f'Product of odd numbers from 1 to {n} is {p}')\n",
    "\n",
    "# Ex4: Print multiplication table of n\n",
    "n = int(input(\"Enter number: \"))\n",
    "for i in range(1, n + 1, 1):\n",
    "    t = n*i\n",
    "    print(n, '*', i, '=', t)\n",
    "\n",
    "n = int(input(\"Enter number: \"))\n",
    "for i in range(1, 11):\n",
    "    print(f'{n:2} x {i:2} = {n*i:2}')"
   ]
  },
  {
   "cell_type": "code",
   "execution_count": null,
   "metadata": {},
   "outputs": [],
   "source": [
    "# Nested for loop\n",
    "# Print triangle of asterisks\n",
    "n = int(input('Enter n: '))\n",
    "for i in range(n + 1):\n",
    "    for k in range(i):\n",
    "        print('* ', end=' ')\n",
    "    print()"
   ]
  },
  {
   "cell_type": "code",
   "execution_count": null,
   "metadata": {},
   "outputs": [],
   "source": [
    "# Ex5.1:\n",
    "for i in range(1 ,n+1):\n",
    "    for k in range(i):\n",
    "        print(i, end=' ')\n",
    "    print()"
   ]
  },
  {
   "cell_type": "code",
   "execution_count": null,
   "metadata": {},
   "outputs": [],
   "source": [
    "# Ex5.2:\n",
    "for i in range(n + 1):\n",
    "    for k in range(1, i+1, 1):\n",
    "        print(k, end=' ')\n",
    "    print()"
   ]
  }
 ],
 "metadata": {
  "kernelspec": {
   "display_name": "Python 3",
   "language": "python",
   "name": "python3"
  },
  "language_info": {
   "codemirror_mode": {
    "name": "ipython",
    "version": 3
   },
   "file_extension": ".py",
   "mimetype": "text/x-python",
   "name": "python",
   "nbconvert_exporter": "python",
   "pygments_lexer": "ipython3",
   "version": "3.11.3"
  },
  "orig_nbformat": 4
 },
 "nbformat": 4,
 "nbformat_minor": 2
}
