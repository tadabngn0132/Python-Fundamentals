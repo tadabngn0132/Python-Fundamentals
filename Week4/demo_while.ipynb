{
 "cells": [
  {
   "cell_type": "code",
   "execution_count": null,
   "metadata": {},
   "outputs": [],
   "source": [
    "counter = 0\n",
    "output = ''\n",
    "\n",
    "while counter < 5:\n",
    "    output += '*.*.'   # concatenate '*#' to output\n",
    "    counter += 1     # increment counter by 1\n",
    "\n",
    "print(output)"
   ]
  },
  {
   "cell_type": "code",
   "execution_count": null,
   "metadata": {},
   "outputs": [],
   "source": [
    "counter = 0\n",
    "while counter < 4:\n",
    "    print('*', end = ' ')\n",
    "    counter += 1"
   ]
  },
  {
   "cell_type": "code",
   "execution_count": null,
   "metadata": {},
   "outputs": [],
   "source": [
    "# while scenario 1: asking user to continue\n",
    "stop = False\n",
    "total_income = 0\n",
    "while not stop:\n",
    "    product = input('Enter product: ')\n",
    "    sold = int(input('Enter sold: '))\n",
    "    price = float(input('Enter price: '))\n",
    "    print('Product:', product, 'Sold:', sold, 'Price:', price)\n",
    "\n",
    "    total_income += sold * price\n",
    "\n",
    "    answer = input('Continue? (y/n) ')\n",
    "    stop = answer == 'n'\n",
    "\n",
    "print('Total income:', total_income)"
   ]
  },
  {
   "cell_type": "code",
   "execution_count": null,
   "metadata": {},
   "outputs": [],
   "source": [
    "# while scenario 2: validating input\n",
    "valid_input = False\n",
    "\n",
    "while valid_input == False:    \n",
    "    name = input('Enter name: ')\n",
    "    age = int(input('Enter age: '))\n",
    "    valid_input = age >= 0\n",
    "    if not valid_input:\n",
    "        print('Invalid age')\n",
    "\n",
    "print('Name:', name, 'Age:', age)\n"
   ]
  }
 ],
 "metadata": {
  "kernelspec": {
   "display_name": "Python 3",
   "language": "python",
   "name": "python3"
  },
  "language_info": {
   "codemirror_mode": {
    "name": "ipython",
    "version": 3
   },
   "file_extension": ".py",
   "mimetype": "text/x-python",
   "name": "python",
   "nbconvert_exporter": "python",
   "pygments_lexer": "ipython3",
   "version": "3.11.3"
  },
  "orig_nbformat": 4
 },
 "nbformat": 4,
 "nbformat_minor": 2
}
