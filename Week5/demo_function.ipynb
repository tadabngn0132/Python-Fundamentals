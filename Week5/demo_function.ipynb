{
 "cells": [
  {
   "cell_type": "code",
   "execution_count": 2,
   "metadata": {},
   "outputs": [],
   "source": [
    "def hi(name):           # name is a parameter\n",
    "    print(\"Hi\", name)"
   ]
  },
  {
   "cell_type": "code",
   "execution_count": null,
   "metadata": {},
   "outputs": [],
   "source": [
    "hi(\"John\")          # John is an argument\n",
    "hi(\"Peter\")\n",
    "name = input(\"Enter name: \")\n",
    "hi(name)            # name is an argument"
   ]
  },
  {
   "cell_type": "code",
   "execution_count": 4,
   "metadata": {},
   "outputs": [],
   "source": [
    "def hello_world():\n",
    "    print(\"Hello World!\")"
   ]
  },
  {
   "cell_type": "code",
   "execution_count": null,
   "metadata": {},
   "outputs": [],
   "source": [
    "hello_world()\n",
    "hello_world()"
   ]
  },
  {
   "cell_type": "code",
   "execution_count": 18,
   "metadata": {},
   "outputs": [],
   "source": [
    "# def print_slogan(slogan, symbol):\n",
    "#     n = len(slogan)\n",
    "#     print(f'{symbol}{symbol*n}{symbol}')\n",
    "#     print(f'{symbol}{slogan}{symbol}')\n",
    "#     print(f'{symbol}{symbol*n}{symbol}')\n",
    "\n",
    "def print_slogan(slogan, symbol):\n",
    "    n = len(slogan) + 2\n",
    "    for i in range(n):\n",
    "        print(symbol, end='')\n",
    "    print()\n",
    "    print(symbol, slogan, symbol, sep='')\n",
    "    for i in range(n):\n",
    "        print(symbol, end='')"
   ]
  },
  {
   "cell_type": "code",
   "execution_count": 19,
   "metadata": {},
   "outputs": [
    {
     "name": "stdout",
     "output_type": "stream",
     "text": [
      "++++++++\n",
      "+Python+\n",
      "++++++++"
     ]
    }
   ],
   "source": [
    "print_slogan(\"Python\", \"+\")"
   ]
  },
  {
   "cell_type": "code",
   "execution_count": null,
   "metadata": {},
   "outputs": [],
   "source": [
    "def find_max(a, b):\n",
    "    if a > b:\n",
    "        return a\n",
    "    else:\n",
    "        return b\n",
    "    print(\"This line will never be executed\")"
   ]
  },
  {
   "cell_type": "code",
   "execution_count": null,
   "metadata": {},
   "outputs": [],
   "source": [
    "m = find_max(10, 20)\n",
    "print(m)"
   ]
  },
  {
   "cell_type": "code",
   "execution_count": 23,
   "metadata": {},
   "outputs": [],
   "source": [
    "# Write a function calculate the average of 3 grades and return it\n",
    "def average(math, english, physics):\n",
    "    total = math + english + physics\n",
    "    avg = total/3\n",
    "    return avg"
   ]
  },
  {
   "cell_type": "code",
   "execution_count": null,
   "metadata": {},
   "outputs": [],
   "source": [
    "math = 8\n",
    "english = 9.5\n",
    "physics = 7.5\n",
    "avg = average(math, english, physics)\n",
    "print('Average', avg)"
   ]
  },
  {
   "cell_type": "code",
   "execution_count": 8,
   "metadata": {},
   "outputs": [],
   "source": [
    "def the_interest_of_a_bank_account(balance, month):\n",
    "    if month < 6:\n",
    "        the_interest_rate = 5/100\n",
    "    else:\n",
    "        the_interest_rate = 8/100\n",
    "    interest = the_interest_rate * balance\n",
    "    the_new_balence = balance + interest\n",
    "    return the_new_balence\n",
    "\n",
    "# def call_interest(balance, months):\n",
    "#     rate = 0.05 if months < 6 else 0.08\n",
    "#     new_balance = balance * (1 + rate * months)\n",
    "#     return new_balance"
   ]
  },
  {
   "cell_type": "code",
   "execution_count": 12,
   "metadata": {},
   "outputs": [
    {
     "name": "stdout",
     "output_type": "stream",
     "text": [
      "210000000.0\n"
     ]
    }
   ],
   "source": [
    "m = the_interest_of_a_bank_account(200000000, 2)\n",
    "print(m)"
   ]
  }
 ],
 "metadata": {
  "kernelspec": {
   "display_name": "Python 3",
   "language": "python",
   "name": "python3"
  },
  "language_info": {
   "codemirror_mode": {
    "name": "ipython",
    "version": 3
   },
   "file_extension": ".py",
   "mimetype": "text/x-python",
   "name": "python",
   "nbconvert_exporter": "python",
   "pygments_lexer": "ipython3",
   "version": "3.11.3"
  },
  "orig_nbformat": 4
 },
 "nbformat": 4,
 "nbformat_minor": 2
}
