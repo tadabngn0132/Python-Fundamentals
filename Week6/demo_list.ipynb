{
 "cells": [
  {
   "cell_type": "code",
   "execution_count": 1,
   "metadata": {},
   "outputs": [],
   "source": [
    "# Declare a list\n",
    "a = [] # empty list\n",
    "b = ['1'] # a list of only 1 element of string\n",
    "c = [1, 2, 3] # a list of 3 elements of integers\n",
    "d = [1.5, 0.4, -2.3] # a list of 3 elements of floats\n",
    "e = [True, False, False, True] # a list of 4 elements of booleans\n",
    "f = [1, '2', 3.0, True] # a list of 4 elements of different types"
   ]
  },
  {
   "cell_type": "code",
   "execution_count": 2,
   "metadata": {},
   "outputs": [
    {
     "name": "stdout",
     "output_type": "stream",
     "text": [
      "['1', 1, 2, 3]\n",
      "[1, 2, 3, 1, 2, 3]\n",
      "2 is in c\n",
      "100 is not in c\n"
     ]
    }
   ],
   "source": [
    "# List operators: +, *, in, not in\n",
    "g = b + c # concatenate 2 lists\n",
    "print(g)\n",
    "h = c * 2 # concatenate a list\n",
    "print(h)\n",
    "if 2 in c:\n",
    "    print('2 is in c')\n",
    "if 100 not in c:\n",
    "    print('100 is not in c')"
   ]
  },
  {
   "cell_type": "code",
   "execution_count": 3,
   "metadata": {},
   "outputs": [
    {
     "name": "stdout",
     "output_type": "stream",
     "text": [
      "[19, 75, 94, 15, 84, 1, 73, 12, 96, 7]\n",
      "10\n",
      "1\n",
      "96\n",
      "476\n",
      "[1, 7, 12, 15, 19, 73, 75, 84, 94, 96]\n",
      "[96, 94, 84, 75, 73, 19, 15, 12, 7, 1]\n"
     ]
    }
   ],
   "source": [
    "import random as rd\n",
    "# Function for list: len(), min(), max(), sum()\n",
    "numbers = rd.sample(range(1, 100), 10) # generate 10 random number from 1 to 99\n",
    "print(numbers)\n",
    "print(len(numbers)) # length of a list\n",
    "print(min(numbers)) # minimum value of a list\n",
    "print(max(numbers)) # maximum value of a list\n",
    "print(sum(numbers)) # sum of all values of a list\n",
    "sorted_numbers = sorted(numbers) # return a new list of sorted value, original list is not changed\n",
    "print(sorted_numbers)\n",
    "sorted_reverse = sorted(numbers, reverse=True) # return a new list of sorted values in reverse order\n",
    "print(sorted_reverse)"
   ]
  },
  {
   "cell_type": "code",
   "execution_count": 4,
   "metadata": {},
   "outputs": [
    {
     "name": "stdout",
     "output_type": "stream",
     "text": [
      "[1, 2, 3, 4]\n",
      "[1, 2, 3, 4, ['a', 'b', 'c']]\n",
      "5\n"
     ]
    }
   ],
   "source": [
    "# List functions: append(), insert(), remove(), pop(), clear()\n",
    "a = [1 ,2, 3]\n",
    "a.append(4) # append 4 to the end of the list\n",
    "print(a)\n",
    "b = ['a', 'b', 'c']\n",
    "a.append(b) # append a list to the end of the list\n",
    "print(a)\n",
    "print(len(a))"
   ]
  },
  {
   "cell_type": "code",
   "execution_count": 54,
   "metadata": {},
   "outputs": [
    {
     "name": "stdout",
     "output_type": "stream",
     "text": [
      "[1, 100, 2, 3]\n",
      "[1, 100, 2]\n",
      "[1, 2]\n"
     ]
    }
   ],
   "source": [
    "a = [1, 2, 3]\n",
    "a.insert(1, 100) # insert 100 at index 1\n",
    "print(a)\n",
    "a.pop() # remove the last element\n",
    "print(a)\n",
    "a.remove(100) # remove the first element with value 100\n",
    "print(a)"
   ]
  },
  {
   "cell_type": "code",
   "execution_count": 1,
   "metadata": {},
   "outputs": [
    {
     "name": "stdout",
     "output_type": "stream",
     "text": [
      "[1, 3, 2, 4, 2]\n",
      "[]\n"
     ]
    }
   ],
   "source": [
    "a = [1, 2, 3, 2, 4, 2] # remove the 1st element with value 2\n",
    "a.remove(2)\n",
    "print(a)\n",
    "a.clear() # remove all elements\n",
    "print(a)"
   ]
  },
  {
   "cell_type": "code",
   "execution_count": 45,
   "metadata": {},
   "outputs": [
    {
     "name": "stdout",
     "output_type": "stream",
     "text": [
      "[86, 20, 87, 22, 28, 68, 69, 88, 4, 48]\n",
      "86\n",
      "48\n"
     ]
    }
   ],
   "source": [
    "# Accessing list elements: zero-based indexing\n",
    "a = rd.sample(range(1, 100), 10)\n",
    "print(a)\n",
    "print(a[0]) # first element\n",
    "print(a[9]) # last element"
   ]
  },
  {
   "cell_type": "code",
   "execution_count": null,
   "metadata": {},
   "outputs": [],
   "source": [
    "# Negative index: from -1 to -10\n",
    "print(a[-1]) # last element\n",
    "print(a[-10]) # first element"
   ]
  },
  {
   "cell_type": "code",
   "execution_count": 35,
   "metadata": {},
   "outputs": [
    {
     "name": "stdout",
     "output_type": "stream",
     "text": [
      "[35, 80, 28, 29, 75, 42, 44, 15, 4, 51]\n",
      "[80, 28, 29]\n",
      "[42, 44, 15, 4]\n",
      "[35, 80, 28, 29]\n",
      "[44, 15, 4, 51]\n",
      "[44, 15, 4, 51]\n"
     ]
    }
   ],
   "source": [
    "# Slicing a list (simple form): list[start:end]\n",
    "print(a)\n",
    "b = a[1:4] # get new list from index 1 to 3\n",
    "print(b)\n",
    "c = a[5:9] # get new list from index 5 to 8\n",
    "print(c)\n",
    "# get the first 4 element\n",
    "print(a[:4])\n",
    "# get the last 4 elements\n",
    "print(a[6:])\n",
    "print(a[-4:])"
   ]
  },
  {
   "cell_type": "code",
   "execution_count": null,
   "metadata": {},
   "outputs": [],
   "source": [
    "# Slice a list (extended form): list[start:end:step]\n",
    "print(a)\n",
    "print(a[1:6:2]) # start from index 1, skip 2 elements, up to index 5\n",
    "print(a[::2]) # print(a[0:10:2])\n",
    "# using slicing to reverse a list\n",
    "print(a[::-1]) # start from the end, skip 1 element, up to the begining\n",
    "print(a[6:1:-2]) # start from index 6, skip 2 elements, up to index 2"
   ]
  }
 ],
 "metadata": {
  "kernelspec": {
   "display_name": "Python 3",
   "language": "python",
   "name": "python3"
  },
  "language_info": {
   "codemirror_mode": {
    "name": "ipython",
    "version": 3
   },
   "file_extension": ".py",
   "mimetype": "text/x-python",
   "name": "python",
   "nbconvert_exporter": "python",
   "pygments_lexer": "ipython3",
   "version": "3.11.3"
  },
  "orig_nbformat": 4
 },
 "nbformat": 4,
 "nbformat_minor": 2
}
