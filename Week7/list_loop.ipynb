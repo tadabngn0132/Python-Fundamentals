{
 "cells": [
  {
   "cell_type": "code",
   "execution_count": null,
   "metadata": {},
   "outputs": [],
   "source": [
    "# Popular list algorithms: sum, max, min, count, find, sort"
   ]
  },
  {
   "cell_type": "code",
   "execution_count": 4,
   "metadata": {},
   "outputs": [
    {
     "name": "stdout",
     "output_type": "stream",
     "text": [
      "[50, 7, 54, 19, 70, 57, 97, 26, 79, 71]\n"
     ]
    }
   ],
   "source": [
    "import random as rd\n",
    "numbers = rd.sample(range(1, 100), 10) # create a list of 10 random numbers from 1 to 99\n",
    "print(numbers)"
   ]
  },
  {
   "cell_type": "code",
   "execution_count": 5,
   "metadata": {},
   "outputs": [
    {
     "name": "stdout",
     "output_type": "stream",
     "text": [
      "Sum of numbers: 530\n",
      "Sum of numbers: 530\n"
     ]
    }
   ],
   "source": [
    "s = 0\n",
    "for n in numbers:\n",
    "    s += n\n",
    "print(f'Sum of numbers: {s}')\n",
    "\n",
    "s = 0\n",
    "for i in range(len(numbers)):\n",
    "    s += numbers[i]\n",
    "\n",
    "print(f'Sum of numbers: {s}')"
   ]
  },
  {
   "cell_type": "code",
   "execution_count": 6,
   "metadata": {},
   "outputs": [
    {
     "name": "stdout",
     "output_type": "stream",
     "text": [
      "Maximum number: 97\n",
      "Maximum of number: 97\n"
     ]
    }
   ],
   "source": [
    "m = numbers[0]\n",
    "for n in numbers:\n",
    "    if n > m:\n",
    "        m = n\n",
    "print(f'Maximum number: {m}')\n",
    "\n",
    "for i in range(len(numbers)):\n",
    "    if numbers[i] > m:\n",
    "        m = numbers[i]\n",
    "\n",
    "print(f'Maximum of number: {m}')"
   ]
  },
  {
   "cell_type": "code",
   "execution_count": 8,
   "metadata": {},
   "outputs": [
    {
     "name": "stdout",
     "output_type": "stream",
     "text": [
      "Minimum number: 7\n",
      "Minimum of number: 7\n"
     ]
    }
   ],
   "source": [
    "n = numbers[0]\n",
    "for m in numbers:\n",
    "    if m < n:\n",
    "        n = m\n",
    "print(f'Minimum number: {n}')\n",
    "\n",
    "for i in range(len(numbers)):\n",
    "    if numbers[i] < n:\n",
    "        n = numbers[i]\n",
    "\n",
    "print(f'Minimum of number: {n}')"
   ]
  },
  {
   "cell_type": "code",
   "execution_count": 19,
   "metadata": {},
   "outputs": [
    {
     "name": "stdout",
     "output_type": "stream",
     "text": [
      "The fruit that has the highest price is lemon with price 5.5\n"
     ]
    }
   ],
   "source": [
    "groceries = ['apple', 'mango', 'kiwi', 'lemon', 'coco']\n",
    "prices = [2.5, 4.5, 4.0, 5.5, 3.5]\n",
    "# Find the fruit that has the highest price\n",
    "i_max = 0\n",
    "price_max = prices[0]\n",
    "\n",
    "for i in range(len(prices)):\n",
    "    if prices[i] > price_max:\n",
    "        price_max = prices[i]\n",
    "        i_max = i\n",
    "\n",
    "print(f'The fruit that has the highest price is {groceries[i_max]} with price {price_max}')"
   ]
  },
  {
   "cell_type": "code",
   "execution_count": 20,
   "metadata": {},
   "outputs": [
    {
     "name": "stdout",
     "output_type": "stream",
     "text": [
      "The cheapest fruit is apple with price 2.5\n"
     ]
    }
   ],
   "source": [
    "i_min = 0\n",
    "price_min = prices[0]\n",
    "\n",
    "for i in range(len(prices)):\n",
    "    if prices[i] < price_min:\n",
    "        price_min = prices[i]\n",
    "        i_min = i\n",
    "\n",
    "print(f'The cheapest fruit is {groceries[i_min]} with price {price_min}')"
   ]
  },
  {
   "cell_type": "code",
   "execution_count": 21,
   "metadata": {},
   "outputs": [
    {
     "name": "stdout",
     "output_type": "stream",
     "text": [
      "Number of even numbers: 4\n"
     ]
    }
   ],
   "source": [
    "count = 0\n",
    "for n in numbers:\n",
    "    if n % 2 == 0:\n",
    "        count += 1\n",
    "print(f'Number of even numbers: {count}')"
   ]
  },
  {
   "cell_type": "code",
   "execution_count": 24,
   "metadata": {},
   "outputs": [
    {
     "name": "stdout",
     "output_type": "stream",
     "text": [
      "Number of products that has total value greater than 100: 3\n"
     ]
    }
   ],
   "source": [
    "products = ['notebook', 'pencil', 'pen', 'eraser', 'ruler', 'sharpener']\n",
    "stocks = [100, 120, 80, 50, 60, 90]\n",
    "prices = [2.5, 1.5, 2.0, 1.0, 1.5, 1.0]\n",
    "# Count how many products that has total value greater than 100\n",
    "count = 0\n",
    "for i in range(len(prices)):\n",
    "    if prices[i] * stocks[i] > 100:\n",
    "        count += 1\n",
    "print(f'Number of products that has total value greater than 100: {count}')"
   ]
  },
  {
   "cell_type": "code",
   "execution_count": 26,
   "metadata": {},
   "outputs": [
    {
     "name": "stdout",
     "output_type": "stream",
     "text": [
      "Price: 2.0, Stock: 80\n"
     ]
    }
   ],
   "source": [
    "# Enter the product name, print the price & stock\n",
    "name = input('Enter the product name: ')\n",
    "found_pos = None\n",
    "for i in range(len(products)):\n",
    "    if products[i] == name:\n",
    "        found_pos = i\n",
    "        break\n",
    "if found_pos == None:\n",
    "    print(f'Product {name} not found')\n",
    "else:\n",
    "    print(f'Price: {prices[found_pos]}, Stock: {stocks[found_pos]}')"
   ]
  },
  {
   "cell_type": "code",
   "execution_count": 30,
   "metadata": {},
   "outputs": [
    {
     "name": "stdout",
     "output_type": "stream",
     "text": [
      "Found products:  ['pencil', 'pen', 'eraser', 'ruler', 'sharpener']\n",
      "Found products:  ['eraser', 'ruler', 'sharpener']"
     ]
    }
   ],
   "source": [
    "# Find products with price >= 2.0\n",
    "found_products = []\n",
    "for i in range(len(prices)):\n",
    "    if prices[i] <= 2.0:\n",
    "        found_products.append(products[i])\n",
    "\n",
    "if len(found_products) == 0:\n",
    "    print('No product found')\n",
    "else:\n",
    "    print('Found products: ', found_products, end='')\n",
    "\n",
    "# Find products with total value <= 150\n",
    "found_products1 = []\n",
    "for i in range(len(prices)):\n",
    "    if prices[i] * stocks[i] <= 150:\n",
    "        found_products1.append(products[i])\n",
    "\n",
    "if len(found_products1) == 0:\n",
    "    print('No product found')\n",
    "else:\n",
    "    print()\n",
    "    print('Found products: ', found_products1, end='')"
   ]
  },
  {
   "cell_type": "code",
   "execution_count": 1,
   "metadata": {},
   "outputs": [],
   "source": [
    "students = ['John', 'Peter', 'Mary', 'Jane', 'Tom', 'Jerry', 'Alice', 'Bob']\n",
    "departments = ['IT', 'GD', 'IT', 'Biz', 'Biz', 'GD', 'IT', 'GD']\n",
    "GPAs = [3.5, 3.0, 3.2, 3.6, 3.8, 3.9, 3.7, 3.4]"
   ]
  },
  {
   "cell_type": "code",
   "execution_count": 33,
   "metadata": {},
   "outputs": [
    {
     "name": "stdout",
     "output_type": "stream",
     "text": [
      "Student Peter, Department GD, GPA 3.0\n"
     ]
    }
   ],
   "source": [
    "# Enter student name, find student and print his, her GPA and department\n",
    "name = input('Enter student name: ')\n",
    "found_pos = None\n",
    "\n",
    "for i in range(len(students)):\n",
    "    if students[i] == name:\n",
    "        found_pos = i\n",
    "        break\n",
    "\n",
    "if found_pos == None:\n",
    "    print(\"No student found\")\n",
    "else: \n",
    "    print(f'Student {students[found_pos]}, Department {departments[found_pos]}, GPA {GPAs[found_pos]}')\n"
   ]
  },
  {
   "cell_type": "code",
   "execution_count": 41,
   "metadata": {},
   "outputs": [
    {
     "name": "stdout",
     "output_type": "stream",
     "text": [
      "Peter, GD, 3.0\n",
      "Jerry, GD, 3.9\n",
      "Bob, GD, 3.4\n"
     ]
    }
   ],
   "source": [
    "# Enter department name, find students in that department and print their names and GPAs\n",
    "department = input('Enter student department: ')\n",
    "found_pos = None\n",
    "found_poss = []\n",
    "\n",
    "for i in range(len(departments)):\n",
    "    if departments[i] == department:\n",
    "        found_pos = i\n",
    "        found_poss.append(found_pos)\n",
    "\n",
    "if found_pos == None:\n",
    "    print(\"No department found\")\n",
    "else:\n",
    "    for n in found_poss:\n",
    "        print(f'{students[n]}, {departments[n]}, {GPAs[n]}')"
   ]
  },
  {
   "cell_type": "code",
   "execution_count": 22,
   "metadata": {},
   "outputs": [
    {
     "name": "stdout",
     "output_type": "stream",
     "text": [
      "Highest GPA: 3.9\n"
     ]
    }
   ],
   "source": [
    "# Find best student (highest GPA)\n",
    "m = GPAs[0]\n",
    "found_pos = 0\n",
    "\n",
    "for n in GPAs:\n",
    "    if n > m:\n",
    "        m = n\n",
    "print(f'Highest GPA: {m}')"
   ]
  },
  {
   "cell_type": "code",
   "execution_count": 25,
   "metadata": {},
   "outputs": [
    {
     "name": "stdout",
     "output_type": "stream",
     "text": [
      "Number of products that students have GPA >= that GPA: 4\n"
     ]
    }
   ],
   "source": [
    "# Enter a GPA, count how many students have GPA >= that GPA\n",
    "GPA = float(input(\"Enter student GPA: \"))\n",
    "\n",
    "count = 0\n",
    "for i in range(len(GPAs)):\n",
    "    if GPAs[i] > GPA:\n",
    "        count += 1\n",
    "print(f'Number of products that students have GPA >= that GPA: {count}')"
   ]
  },
  {
   "cell_type": "code",
   "execution_count": null,
   "metadata": {},
   "outputs": [],
   "source": [
    "# Calculate average GPA of students in all departments\n",
    "\n",
    "# Calculate average GPA of students in each department"
   ]
  }
 ],
 "metadata": {
  "kernelspec": {
   "display_name": "Python 3",
   "language": "python",
   "name": "python3"
  },
  "language_info": {
   "codemirror_mode": {
    "name": "ipython",
    "version": 3
   },
   "file_extension": ".py",
   "mimetype": "text/x-python",
   "name": "python",
   "nbconvert_exporter": "python",
   "pygments_lexer": "ipython3",
   "version": "3.11.3"
  },
  "orig_nbformat": 4
 },
 "nbformat": 4,
 "nbformat_minor": 2
}
