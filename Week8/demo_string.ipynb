{
 "cells": [
  {
   "cell_type": "code",
   "execution_count": null,
   "metadata": {},
   "outputs": [],
   "source": [
    "# Format number\n",
    "a = 3.1415926\n",
    "s = '3.14'\n",
    "print(f'{a:8.2f}', '***')\n",
    "print(f'{s:8}', '***')"
   ]
  },
  {
   "cell_type": "code",
   "execution_count": null,
   "metadata": {},
   "outputs": [],
   "source": [
    "a = 1234\n",
    "s = '1234'\n",
    "print(f'|{a:8}|') # number is right algined\n",
    "print(f'|{s:8}|') # string is left algined"
   ]
  },
  {
   "cell_type": "code",
   "execution_count": null,
   "metadata": {},
   "outputs": [],
   "source": [
    "print(f'|{a:>8}|') # right align\n",
    "print(f'|{a:<8}|') # left align\n",
    "print(f'|{a:^8}|') # center align"
   ]
  },
  {
   "cell_type": "code",
   "execution_count": null,
   "metadata": {},
   "outputs": [],
   "source": [
    "a = 3.1415926\n",
    "print(f'{a:8.2f}')\n",
    "print(f'{a:8.2e}')\n",
    "print(f'{a:8.2%}')"
   ]
  },
  {
   "cell_type": "code",
   "execution_count": null,
   "metadata": {},
   "outputs": [],
   "source": [
    "name = input('Enter product: ')\n",
    "price = int(input('Enter price: '))\n",
    "# vat = int(input('Enter VAT: '))\n",
    "vat = price * 0.1\n",
    "\n",
    "print(f'{\"Your invoice: \"}')\n",
    "print(f'{\"Product\":10}|{name:>10}')\n",
    "print(f'{\"Price\":10}|{price:10.2f}')\n",
    "print(f'{\"VAT\":10}|{vat:10.2f}')\n",
    "print(f'{\"Total\":10}|{price+vat:10.2f}')"
   ]
  },
  {
   "cell_type": "code",
   "execution_count": 24,
   "metadata": {},
   "outputs": [
    {
     "name": "stdout",
     "output_type": "stream",
     "text": [
      "hello python world\n",
      "HELLO PYTHON WORLD\n",
      "Hello Python World\n",
      "hELLO PYTHON WORLd\n",
      "Hello python worlD\n"
     ]
    }
   ],
   "source": [
    "s = \"Hello python worlD\"\n",
    "print(s.lower()) # change all characters to lower case\n",
    "print(s.upper()) # change all characters to upper case\n",
    "print(s.title()) # change first character of each word to upper case\n",
    "print(s.swapcase()) # change upper case to lower case and vice versa\n",
    "print(s) # s is not change because string is immutable"
   ]
  },
  {
   "cell_type": "code",
   "execution_count": 23,
   "metadata": {},
   "outputs": [
    {
     "name": "stdout",
     "output_type": "stream",
     "text": [
      "11\n",
      "J\n",
      "John Lennon is less than or equal to Paul McCartney\n",
      "Paul McCartney\n",
      "John Lennon\n"
     ]
    }
   ],
   "source": [
    "name1 = 'John Lennon'\n",
    "name2 = 'Paul McCartney'\n",
    "print(len(name1)) # length of string\n",
    "print(name1[0]) # first character of string\n",
    "if name1 > name2:\n",
    "    print(name1, 'is greater than', name2)\n",
    "else:\n",
    "    print(name1, 'is less than or equal to', name2)\n",
    "print(max(name1, name2)) # compare two string, return the greater one\n",
    "print(min(name1, name2)) # compare two string, return the smaller one"
   ]
  },
  {
   "cell_type": "code",
   "execution_count": 11,
   "metadata": {},
   "outputs": [
    {
     "name": "stdout",
     "output_type": "stream",
     "text": [
      "Hello World\n",
      "HelloHelloHelloHello\n"
     ]
    }
   ],
   "source": [
    "# String operators: + and *\n",
    "a = 'Hello'\n",
    "b = 'World'\n",
    "s = a + ' ' + b\n",
    "print(s)\n",
    "print(a*4)"
   ]
  },
  {
   "cell_type": "code",
   "execution_count": 12,
   "metadata": {},
   "outputs": [
    {
     "name": "stdout",
     "output_type": "stream",
     "text": [
      "Hello\n",
      "World\n"
     ]
    }
   ],
   "source": [
    "# Slicing (similar to list slicing)\n",
    "s = 'Hello World'\n",
    "print(s[:5]) # from beginning to position 4\n",
    "print(s[-5:]) # from position -5 to the end"
   ]
  },
  {
   "cell_type": "code",
   "execution_count": 13,
   "metadata": {},
   "outputs": [
    {
     "name": "stdout",
     "output_type": "stream",
     "text": [
      "Hello World\n",
      "Found hello\n"
     ]
    }
   ],
   "source": [
    "# Check if a string contains a substring\n",
    "print(s)\n",
    "if 'hello' in s.lower():\n",
    "    print(\"Found hello\")"
   ]
  },
  {
   "cell_type": "code",
   "execution_count": null,
   "metadata": {},
   "outputs": [],
   "source": [
    "# String classification: if a string contains only letters, digits, etc.\n",
    "print('Hello'.isalpha()) # True\n",
    "print('Hello123'.isalpha()) # False\n",
    "print('123'.isdigit()) # True\n",
    "print('123.45'.isdigit()) # False\n",
    "print('123.45'.isdecimal()) # False\n",
    "print('123'.isdecimal()) # True\n",
    "print('123'.isnumeric()) # True\n",
    "print('123.45'.isnumeric()) # False"
   ]
  },
  {
   "cell_type": "code",
   "execution_count": 25,
   "metadata": {},
   "outputs": [
    {
     "name": "stdout",
     "output_type": "stream",
     "text": [
      "a not found\n"
     ]
    }
   ],
   "source": [
    "# Search method: find, startswith, endswith, count\n",
    "s = 'Hello World'\n",
    "msg = input('Enter a sub string: ')\n",
    "i = s.find(msg)\n",
    "if i == -1:\n",
    "    print(msg, 'not found')\n",
    "else:\n",
    "    print(msg, 'found at position', i)"
   ]
  },
  {
   "cell_type": "code",
   "execution_count": 16,
   "metadata": {},
   "outputs": [
    {
     "name": "stdout",
     "output_type": "stream",
     "text": [
      "Hello World start with Hell\n",
      "Hello World end with World\n"
     ]
    }
   ],
   "source": [
    "if s.startswith('Hello'):\n",
    "    print(f'{s} start with Hell')\n",
    "if s.endswith('World'):\n",
    "    print(f'{s} end with World')"
   ]
  },
  {
   "cell_type": "code",
   "execution_count": 17,
   "metadata": {},
   "outputs": [
    {
     "name": "stdout",
     "output_type": "stream",
     "text": [
      "Hello World contains 3 l\n",
      "Hello World contains 2 o\n"
     ]
    }
   ],
   "source": [
    "print(f'{s} contains {s.count(\"l\")} l')\n",
    "print(f'{s} contains {s.count(\"o\")} o')"
   ]
  },
  {
   "cell_type": "code",
   "execution_count": 18,
   "metadata": {},
   "outputs": [
    {
     "name": "stdout",
     "output_type": "stream",
     "text": [
      "Hello World\n"
     ]
    }
   ],
   "source": [
    "s = '    hello world     '\n",
    "s = s.strip() # remove leading and trailing spaces\n",
    "s = s.title() # change first character of each word to upper case\n",
    "print(s)"
   ]
  },
  {
   "cell_type": "code",
   "execution_count": 19,
   "metadata": {},
   "outputs": [
    {
     "name": "stdout",
     "output_type": "stream",
     "text": [
      "Hello World\n"
     ]
    }
   ],
   "source": [
    "s = '     hello world     '\n",
    "s = s.strip().title()\n",
    "print(s)"
   ]
  },
  {
   "cell_type": "code",
   "execution_count": 20,
   "metadata": {},
   "outputs": [
    {
     "name": "stdout",
     "output_type": "stream",
     "text": [
      "['hello', 'python', 'world']\n"
     ]
    }
   ],
   "source": [
    "s = 'hello python world'\n",
    "s_list = s.split() # split string into a list of words\n",
    "print(s_list)"
   ]
  },
  {
   "cell_type": "code",
   "execution_count": 22,
   "metadata": {},
   "outputs": [
    {
     "name": "stdout",
     "output_type": "stream",
     "text": [
      "['python', 'java', ' c', 'c++', 'c#', 'javascript']\n",
      "There are 6 languages\n"
     ]
    }
   ],
   "source": [
    "languages = 'python,java,c,c++,c#,javascript'\n",
    "lang_list = languages.split(',') # split string into a list of words\n",
    "print(lang_list)\n",
    "print(f'There are {len(lang_list)} languages')"
   ]
  },
  {
   "cell_type": "code",
   "execution_count": 30,
   "metadata": {},
   "outputs": [
    {
     "name": "stdout",
     "output_type": "stream",
     "text": [
      "apple,banana,orange,grape\n"
     ]
    }
   ],
   "source": [
    "# Exercise: Ask user to enter a list of fruits, separated by comma\n",
    "fruits = input('Enter a list of fruits: ')\n",
    "print(fruits)"
   ]
  },
  {
   "cell_type": "code",
   "execution_count": 32,
   "metadata": {},
   "outputs": [
    {
     "name": "stdout",
     "output_type": "stream",
     "text": [
      "There are 4 fruits\n"
     ]
    }
   ],
   "source": [
    "# Print how many fruits are there\n",
    "fruits_list = fruits.split(',')\n",
    "print(f'There are {len(fruits_list)} fruits')"
   ]
  },
  {
   "cell_type": "code",
   "execution_count": 37,
   "metadata": {},
   "outputs": [
    {
     "name": "stdout",
     "output_type": "stream",
     "text": [
      "apple is in the list\n"
     ]
    }
   ],
   "source": [
    "# Ask for a favorite fruit, print if it is in the list or not\n",
    "fav_fruit = input('Enter favorite fruit: ')\n",
    "if fav_fruit not in fruits_list:\n",
    "    print(fav_fruit, 'is not in the list')\n",
    "else:\n",
    "    print(fav_fruit, 'is in the list')"
   ]
  },
  {
   "cell_type": "code",
   "execution_count": null,
   "metadata": {},
   "outputs": [],
   "source": [
    "# Example output\n",
    "# Enter fruits: apple,banana,orange,grape\n",
    "# There are 4 fruits\n",
    "# Enter favorite fruit: apple\n",
    "# apple is in the list"
   ]
  }
 ],
 "metadata": {
  "kernelspec": {
   "display_name": "Python 3",
   "language": "python",
   "name": "python3"
  },
  "language_info": {
   "codemirror_mode": {
    "name": "ipython",
    "version": 3
   },
   "file_extension": ".py",
   "mimetype": "text/x-python",
   "name": "python",
   "nbconvert_exporter": "python",
   "pygments_lexer": "ipython3",
   "version": "3.11.3"
  },
  "orig_nbformat": 4
 },
 "nbformat": 4,
 "nbformat_minor": 2
}
