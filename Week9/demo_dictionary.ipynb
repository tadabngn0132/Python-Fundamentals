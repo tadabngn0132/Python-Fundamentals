{
 "cells": [
  {
   "cell_type": "code",
   "execution_count": 1,
   "metadata": {},
   "outputs": [
    {
     "name": "stdout",
     "output_type": "stream",
     "text": [
      "bonjour\n"
     ]
    }
   ],
   "source": [
    "english_words = {'hello': 'bonjour', 'morning': 'matin', 'world': 'monde'}\n",
    "print(english_words['hello'])"
   ]
  },
  {
   "cell_type": "code",
   "execution_count": null,
   "metadata": {},
   "outputs": [],
   "source": [
    "word = input('Enter an English word: ')\n",
    "if word in english_words:\n",
    "    print('French translation:', english_words[word])\n",
    "else:\n",
    "    print(f'Word {word} not found in dictionary')"
   ]
  },
  {
   "cell_type": "code",
   "execution_count": null,
   "metadata": {},
   "outputs": [],
   "source": [
    "new_word = input('Enter a new world: ')\n",
    "new_french_translation = input('Enter the French translation: ')\n",
    "if new_word not in english_words:\n",
    "    english_words[new_word] = new_french_translation\n",
    "    print(english_words)\n",
    "else:\n",
    "    print(f'{new_word} is already in the dictionary')"
   ]
  },
  {
   "cell_type": "code",
   "execution_count": null,
   "metadata": {},
   "outputs": [],
   "source": [
    "edit_word = input('Enter a world to edit: ')\n",
    "new_french_translation = input('Enter the French translation: ')\n",
    "if edit_word in english_words:\n",
    "    english_words[edit_word] = new_french_translation\n",
    "    print(english_words)\n",
    "else:\n",
    "    print(f'{edit_word} is not in the dictionary')"
   ]
  },
  {
   "cell_type": "code",
   "execution_count": null,
   "metadata": {},
   "outputs": [],
   "source": [
    "delete_word = input('Enter a word to delete: ')\n",
    "if delete_word in english_words:\n",
    "    del english_words[english_words] # similar: english_word.pop(delete_word)\n",
    "    print(f'{delete_word} deleted')\n",
    "    print(english_words)\n",
    "else:\n",
    "    print(f'{delete_word} not found')"
   ]
  },
  {
   "cell_type": "code",
   "execution_count": null,
   "metadata": {},
   "outputs": [],
   "source": [
    "content = \"\"\n",
    "\n",
    "words = content.split()\n",
    "print(len(words))\n",
    "\n",
    "word_count = {}\n",
    "for w in words:\n",
    "    if w in word_count:\n",
    "        word_count[w] = 1\n",
    "    else:\n",
    "        word_count[w] += 1\n",
    "\n",
    "print(len(word_count))\n",
    "for w in word_count:\n",
    "    print(f'{w}: {word_count[w]}')"
   ]
  }
 ],
 "metadata": {
  "kernelspec": {
   "display_name": "Python 3",
   "language": "python",
   "name": "python3"
  },
  "language_info": {
   "codemirror_mode": {
    "name": "ipython",
    "version": 3
   },
   "file_extension": ".py",
   "mimetype": "text/x-python",
   "name": "python",
   "nbconvert_exporter": "python",
   "pygments_lexer": "ipython3",
   "version": "3.11.3"
  },
  "orig_nbformat": 4
 },
 "nbformat": 4,
 "nbformat_minor": 2
}
